{
  "nbformat": 4,
  "nbformat_minor": 0,
  "metadata": {
    "colab": {
      "name": "Mushrom_apriori.ipynb",
      "provenance": [],
      "collapsed_sections": []
    },
    "kernelspec": {
      "name": "python3",
      "display_name": "Python 3"
    },
    "accelerator": "GPU"
  },
  "cells": [
    {
      "cell_type": "code",
      "metadata": {
        "id": "SjX-UTb8qWXa"
      },
      "source": [
        "import pandas as pd\n",
        "from mlxtend.preprocessing import TransactionEncoder\n",
        "from mlxtend.frequent_patterns import apriori\n",
        "import itertools\n",
        "from pandas import Series, DataFrame"
      ],
      "execution_count": null,
      "outputs": []
    },
    {
      "cell_type": "code",
      "metadata": {
        "id": "tulSLHY0rjvm",
        "outputId": "e16be881-80c5-49e3-fae9-e7ce4694b031",
        "colab": {
          "base_uri": "https://localhost:8080/",
          "height": 197
        }
      },
      "source": [
        "dataset = pd.read_csv('Mushroom Input.txt', header = None,delimiter=r\"\\s+\")\n",
        "dataset.head()"
      ],
      "execution_count": null,
      "outputs": [
        {
          "output_type": "execute_result",
          "data": {
            "text/html": [
              "<div>\n",
              "<style scoped>\n",
              "    .dataframe tbody tr th:only-of-type {\n",
              "        vertical-align: middle;\n",
              "    }\n",
              "\n",
              "    .dataframe tbody tr th {\n",
              "        vertical-align: top;\n",
              "    }\n",
              "\n",
              "    .dataframe thead th {\n",
              "        text-align: right;\n",
              "    }\n",
              "</style>\n",
              "<table border=\"1\" class=\"dataframe\">\n",
              "  <thead>\n",
              "    <tr style=\"text-align: right;\">\n",
              "      <th></th>\n",
              "      <th>0</th>\n",
              "      <th>1</th>\n",
              "      <th>2</th>\n",
              "      <th>3</th>\n",
              "      <th>4</th>\n",
              "      <th>5</th>\n",
              "      <th>6</th>\n",
              "      <th>7</th>\n",
              "      <th>8</th>\n",
              "      <th>9</th>\n",
              "      <th>10</th>\n",
              "      <th>11</th>\n",
              "      <th>12</th>\n",
              "      <th>13</th>\n",
              "      <th>14</th>\n",
              "      <th>15</th>\n",
              "      <th>16</th>\n",
              "      <th>17</th>\n",
              "      <th>18</th>\n",
              "      <th>19</th>\n",
              "      <th>20</th>\n",
              "      <th>21</th>\n",
              "      <th>22</th>\n",
              "    </tr>\n",
              "  </thead>\n",
              "  <tbody>\n",
              "    <tr>\n",
              "      <th>0</th>\n",
              "      <td>1</td>\n",
              "      <td>5</td>\n",
              "      <td>12</td>\n",
              "      <td>21</td>\n",
              "      <td>23</td>\n",
              "      <td>25</td>\n",
              "      <td>36</td>\n",
              "      <td>39</td>\n",
              "      <td>42</td>\n",
              "      <td>53</td>\n",
              "      <td>56</td>\n",
              "      <td>57</td>\n",
              "      <td>67</td>\n",
              "      <td>71</td>\n",
              "      <td>79</td>\n",
              "      <td>88</td>\n",
              "      <td>90</td>\n",
              "      <td>94</td>\n",
              "      <td>97</td>\n",
              "      <td>104</td>\n",
              "      <td>113</td>\n",
              "      <td>120</td>\n",
              "      <td>128</td>\n",
              "    </tr>\n",
              "    <tr>\n",
              "      <th>1</th>\n",
              "      <td>1</td>\n",
              "      <td>5</td>\n",
              "      <td>12</td>\n",
              "      <td>21</td>\n",
              "      <td>23</td>\n",
              "      <td>25</td>\n",
              "      <td>36</td>\n",
              "      <td>39</td>\n",
              "      <td>42</td>\n",
              "      <td>53</td>\n",
              "      <td>56</td>\n",
              "      <td>57</td>\n",
              "      <td>67</td>\n",
              "      <td>71</td>\n",
              "      <td>79</td>\n",
              "      <td>88</td>\n",
              "      <td>90</td>\n",
              "      <td>94</td>\n",
              "      <td>97</td>\n",
              "      <td>104</td>\n",
              "      <td>108</td>\n",
              "      <td>120</td>\n",
              "      <td>128</td>\n",
              "    </tr>\n",
              "    <tr>\n",
              "      <th>2</th>\n",
              "      <td>1</td>\n",
              "      <td>5</td>\n",
              "      <td>12</td>\n",
              "      <td>21</td>\n",
              "      <td>23</td>\n",
              "      <td>25</td>\n",
              "      <td>36</td>\n",
              "      <td>39</td>\n",
              "      <td>42</td>\n",
              "      <td>50</td>\n",
              "      <td>56</td>\n",
              "      <td>57</td>\n",
              "      <td>67</td>\n",
              "      <td>71</td>\n",
              "      <td>79</td>\n",
              "      <td>88</td>\n",
              "      <td>90</td>\n",
              "      <td>94</td>\n",
              "      <td>97</td>\n",
              "      <td>104</td>\n",
              "      <td>113</td>\n",
              "      <td>120</td>\n",
              "      <td>128</td>\n",
              "    </tr>\n",
              "    <tr>\n",
              "      <th>3</th>\n",
              "      <td>1</td>\n",
              "      <td>5</td>\n",
              "      <td>12</td>\n",
              "      <td>21</td>\n",
              "      <td>23</td>\n",
              "      <td>25</td>\n",
              "      <td>36</td>\n",
              "      <td>39</td>\n",
              "      <td>42</td>\n",
              "      <td>50</td>\n",
              "      <td>56</td>\n",
              "      <td>57</td>\n",
              "      <td>67</td>\n",
              "      <td>71</td>\n",
              "      <td>79</td>\n",
              "      <td>88</td>\n",
              "      <td>90</td>\n",
              "      <td>94</td>\n",
              "      <td>97</td>\n",
              "      <td>104</td>\n",
              "      <td>108</td>\n",
              "      <td>120</td>\n",
              "      <td>128</td>\n",
              "    </tr>\n",
              "    <tr>\n",
              "      <th>4</th>\n",
              "      <td>1</td>\n",
              "      <td>5</td>\n",
              "      <td>12</td>\n",
              "      <td>21</td>\n",
              "      <td>23</td>\n",
              "      <td>25</td>\n",
              "      <td>36</td>\n",
              "      <td>39</td>\n",
              "      <td>42</td>\n",
              "      <td>44</td>\n",
              "      <td>56</td>\n",
              "      <td>57</td>\n",
              "      <td>67</td>\n",
              "      <td>71</td>\n",
              "      <td>79</td>\n",
              "      <td>88</td>\n",
              "      <td>90</td>\n",
              "      <td>94</td>\n",
              "      <td>97</td>\n",
              "      <td>104</td>\n",
              "      <td>113</td>\n",
              "      <td>120</td>\n",
              "      <td>128</td>\n",
              "    </tr>\n",
              "  </tbody>\n",
              "</table>\n",
              "</div>"
            ],
            "text/plain": [
              "   0   1   2   3   4   5   6   7   8   ...  14  15  16  17  18   19   20   21   22\n",
              "0   1   5  12  21  23  25  36  39  42  ...  79  88  90  94  97  104  113  120  128\n",
              "1   1   5  12  21  23  25  36  39  42  ...  79  88  90  94  97  104  108  120  128\n",
              "2   1   5  12  21  23  25  36  39  42  ...  79  88  90  94  97  104  113  120  128\n",
              "3   1   5  12  21  23  25  36  39  42  ...  79  88  90  94  97  104  108  120  128\n",
              "4   1   5  12  21  23  25  36  39  42  ...  79  88  90  94  97  104  113  120  128\n",
              "\n",
              "[5 rows x 23 columns]"
            ]
          },
          "metadata": {
            "tags": []
          },
          "execution_count": 2
        }
      ]
    },
    {
      "cell_type": "code",
      "metadata": {
        "id": "4O7Z0kidr0XL"
      },
      "source": [
        "transactions = []\n",
        "for i in range(0, 8416):\n",
        "    transactions.append([str(dataset.values[i,j]) for j in range(0, 23)])\n",
        "    \n",
        "# transactions"
      ],
      "execution_count": null,
      "outputs": []
    },
    {
      "cell_type": "code",
      "metadata": {
        "id": "wucLyCupsJoo",
        "outputId": "b77fab11-c280-4b06-8a46-10e43fe5a1b6",
        "colab": {
          "base_uri": "https://localhost:8080/",
          "height": 150
        }
      },
      "source": [
        "te = TransactionEncoder()\n",
        "te_ary = te.fit(transactions).transform(transactions)\n",
        "\n",
        "print(te_ary)\n",
        "print(type(te_ary))"
      ],
      "execution_count": null,
      "outputs": [
        {
          "output_type": "stream",
          "text": [
            "[[ True False False ... False  True False]\n",
            " [ True False False ... False  True False]\n",
            " [ True False False ... False  True False]\n",
            " ...\n",
            " [ True False False ... False  True False]\n",
            " [ True False False ... False  True False]\n",
            " [ True False False ... False  True False]]\n",
            "<class 'numpy.ndarray'>\n"
          ],
          "name": "stdout"
        }
      ]
    },
    {
      "cell_type": "code",
      "metadata": {
        "id": "lYFz8w9hsT2K",
        "outputId": "0fda2e74-24b7-4475-b886-0aef9a39ad2f",
        "colab": {
          "base_uri": "https://localhost:8080/",
          "height": 407
        }
      },
      "source": [
        "df = pd.DataFrame(te_ary, columns=te.columns_)\n",
        "# frequent_itemsets = apriori(df, min_support=0.7, use_colnames=True)\n",
        "\n",
        "# frequent_itemsets.head()\n",
        "\n",
        "# frequent_itemsets1 = apriori(df, min_support=0.0, use_colnames=True)\n",
        "frequent_itemsets = apriori(df, min_support=0.3, use_colnames=True)\n",
        "frequent_itemsets\n",
        "# ls1=frequent_itemsets['support']*len(df) \n",
        "# frequent_itemsets.insert(loc=2,column='Count',value=ls1)\n",
        "\n",
        "# frequent_itemsets.to_csv(\"Itemset Count.csv\")"
      ],
      "execution_count": null,
      "outputs": [
        {
          "output_type": "execute_result",
          "data": {
            "text/html": [
              "<div>\n",
              "<style scoped>\n",
              "    .dataframe tbody tr th:only-of-type {\n",
              "        vertical-align: middle;\n",
              "    }\n",
              "\n",
              "    .dataframe tbody tr th {\n",
              "        vertical-align: top;\n",
              "    }\n",
              "\n",
              "    .dataframe thead th {\n",
              "        text-align: right;\n",
              "    }\n",
              "</style>\n",
              "<table border=\"1\" class=\"dataframe\">\n",
              "  <thead>\n",
              "    <tr style=\"text-align: right;\">\n",
              "      <th></th>\n",
              "      <th>support</th>\n",
              "      <th>itemsets</th>\n",
              "    </tr>\n",
              "  </thead>\n",
              "  <tbody>\n",
              "    <tr>\n",
              "      <th>0</th>\n",
              "      <td>0.533270</td>\n",
              "      <td>(1)</td>\n",
              "    </tr>\n",
              "    <tr>\n",
              "      <th>1</th>\n",
              "      <td>0.363118</td>\n",
              "      <td>(100)</td>\n",
              "    </tr>\n",
              "    <tr>\n",
              "      <th>2</th>\n",
              "      <td>0.471483</td>\n",
              "      <td>(104)</td>\n",
              "    </tr>\n",
              "    <tr>\n",
              "      <th>3</th>\n",
              "      <td>0.388308</td>\n",
              "      <td>(11)</td>\n",
              "    </tr>\n",
              "    <tr>\n",
              "      <th>4</th>\n",
              "      <td>0.318916</td>\n",
              "      <td>(12)</td>\n",
              "    </tr>\n",
              "    <tr>\n",
              "      <th>...</th>\n",
              "      <td>...</td>\n",
              "      <td>...</td>\n",
              "    </tr>\n",
              "    <tr>\n",
              "      <th>2582</th>\n",
              "      <td>0.309886</td>\n",
              "      <td>(67, 36, 23, 90, 71, 41, 38, 94)</td>\n",
              "    </tr>\n",
              "    <tr>\n",
              "      <th>2583</th>\n",
              "      <td>0.306084</td>\n",
              "      <td>(67, 36, 23, 97, 90, 41, 38, 94)</td>\n",
              "    </tr>\n",
              "    <tr>\n",
              "      <th>2584</th>\n",
              "      <td>0.305133</td>\n",
              "      <td>(67, 36, 23, 97, 90, 71, 38, 94)</td>\n",
              "    </tr>\n",
              "    <tr>\n",
              "      <th>2585</th>\n",
              "      <td>0.306084</td>\n",
              "      <td>(67, 36, 23, 97, 90, 41, 38, 104, 94)</td>\n",
              "    </tr>\n",
              "    <tr>\n",
              "      <th>2586</th>\n",
              "      <td>0.305133</td>\n",
              "      <td>(67, 36, 23, 97, 90, 71, 38, 104, 94)</td>\n",
              "    </tr>\n",
              "  </tbody>\n",
              "</table>\n",
              "<p>2587 rows × 2 columns</p>\n",
              "</div>"
            ],
            "text/plain": [
              "       support                               itemsets\n",
              "0     0.533270                                    (1)\n",
              "1     0.363118                                  (100)\n",
              "2     0.471483                                  (104)\n",
              "3     0.388308                                   (11)\n",
              "4     0.318916                                   (12)\n",
              "...        ...                                    ...\n",
              "2582  0.309886       (67, 36, 23, 90, 71, 41, 38, 94)\n",
              "2583  0.306084       (67, 36, 23, 97, 90, 41, 38, 94)\n",
              "2584  0.305133       (67, 36, 23, 97, 90, 71, 38, 94)\n",
              "2585  0.306084  (67, 36, 23, 97, 90, 41, 38, 104, 94)\n",
              "2586  0.305133  (67, 36, 23, 97, 90, 71, 38, 104, 94)\n",
              "\n",
              "[2587 rows x 2 columns]"
            ]
          },
          "metadata": {
            "tags": []
          },
          "execution_count": 5
        }
      ]
    },
    {
      "cell_type": "code",
      "metadata": {
        "id": "YeEyjhDQtPXX"
      },
      "source": [
        "from mlxtend.frequent_patterns import association_rules"
      ],
      "execution_count": null,
      "outputs": []
    },
    {
      "cell_type": "code",
      "metadata": {
        "id": "bfiZ1zk7tQ2B",
        "outputId": "74000eb1-1004-4b91-ed79-d86fe75f008d",
        "colab": {
          "base_uri": "https://localhost:8080/",
          "height": 33
        }
      },
      "source": [
        "res=association_rules(frequent_itemsets, metric=\"support\", min_threshold=0.3)\n",
        "len(res)"
      ],
      "execution_count": null,
      "outputs": [
        {
          "output_type": "execute_result",
          "data": {
            "text/plain": [
              "78888"
            ]
          },
          "metadata": {
            "tags": []
          },
          "execution_count": 7
        }
      ]
    },
    {
      "cell_type": "code",
      "metadata": {
        "id": "brVua1nzsHr2",
        "outputId": "772a15e6-3b94-4704-c2ea-d16f24a424f3",
        "colab": {
          "base_uri": "https://localhost:8080/",
          "height": 33
        }
      },
      "source": [
        "res1=association_rules(frequent_itemsets, metric=\"support\", min_threshold=0.4)\n",
        "len(res1)"
      ],
      "execution_count": null,
      "outputs": [
        {
          "output_type": "execute_result",
          "data": {
            "text/plain": [
              "5904"
            ]
          },
          "metadata": {
            "tags": []
          },
          "execution_count": 8
        }
      ]
    },
    {
      "cell_type": "code",
      "metadata": {
        "id": "tM0m9aLPs2lE",
        "outputId": "1c381d51-d727-4dee-d968-bb149f7c3ce3",
        "colab": {
          "base_uri": "https://localhost:8080/",
          "height": 197
        }
      },
      "source": [
        "result = res.append(res1)\n",
        "result.head()"
      ],
      "execution_count": null,
      "outputs": [
        {
          "output_type": "execute_result",
          "data": {
            "text/html": [
              "<div>\n",
              "<style scoped>\n",
              "    .dataframe tbody tr th:only-of-type {\n",
              "        vertical-align: middle;\n",
              "    }\n",
              "\n",
              "    .dataframe tbody tr th {\n",
              "        vertical-align: top;\n",
              "    }\n",
              "\n",
              "    .dataframe thead th {\n",
              "        text-align: right;\n",
              "    }\n",
              "</style>\n",
              "<table border=\"1\" class=\"dataframe\">\n",
              "  <thead>\n",
              "    <tr style=\"text-align: right;\">\n",
              "      <th></th>\n",
              "      <th>antecedents</th>\n",
              "      <th>consequents</th>\n",
              "      <th>antecedent support</th>\n",
              "      <th>consequent support</th>\n",
              "      <th>support</th>\n",
              "      <th>confidence</th>\n",
              "      <th>lift</th>\n",
              "      <th>leverage</th>\n",
              "      <th>conviction</th>\n",
              "    </tr>\n",
              "  </thead>\n",
              "  <tbody>\n",
              "    <tr>\n",
              "      <th>0</th>\n",
              "      <td>(104)</td>\n",
              "      <td>(1)</td>\n",
              "      <td>0.471483</td>\n",
              "      <td>0.533270</td>\n",
              "      <td>0.374525</td>\n",
              "      <td>0.794355</td>\n",
              "      <td>1.489592</td>\n",
              "      <td>0.123097</td>\n",
              "      <td>2.269589</td>\n",
              "    </tr>\n",
              "    <tr>\n",
              "      <th>1</th>\n",
              "      <td>(1)</td>\n",
              "      <td>(104)</td>\n",
              "      <td>0.533270</td>\n",
              "      <td>0.471483</td>\n",
              "      <td>0.374525</td>\n",
              "      <td>0.702317</td>\n",
              "      <td>1.489592</td>\n",
              "      <td>0.123097</td>\n",
              "      <td>1.775438</td>\n",
              "    </tr>\n",
              "    <tr>\n",
              "      <th>2</th>\n",
              "      <td>(1)</td>\n",
              "      <td>(23)</td>\n",
              "      <td>0.533270</td>\n",
              "      <td>0.401141</td>\n",
              "      <td>0.326996</td>\n",
              "      <td>0.613191</td>\n",
              "      <td>1.528618</td>\n",
              "      <td>0.113080</td>\n",
              "      <td>1.548203</td>\n",
              "    </tr>\n",
              "    <tr>\n",
              "      <th>3</th>\n",
              "      <td>(23)</td>\n",
              "      <td>(1)</td>\n",
              "      <td>0.401141</td>\n",
              "      <td>0.533270</td>\n",
              "      <td>0.326996</td>\n",
              "      <td>0.815166</td>\n",
              "      <td>1.528618</td>\n",
              "      <td>0.113080</td>\n",
              "      <td>2.525129</td>\n",
              "    </tr>\n",
              "    <tr>\n",
              "      <th>4</th>\n",
              "      <td>(31)</td>\n",
              "      <td>(1)</td>\n",
              "      <td>0.452471</td>\n",
              "      <td>0.533270</td>\n",
              "      <td>0.438213</td>\n",
              "      <td>0.968487</td>\n",
              "      <td>1.816130</td>\n",
              "      <td>0.196923</td>\n",
              "      <td>14.810900</td>\n",
              "    </tr>\n",
              "  </tbody>\n",
              "</table>\n",
              "</div>"
            ],
            "text/plain": [
              "  antecedents consequents  antecedent support  ...      lift  leverage  conviction\n",
              "0       (104)         (1)            0.471483  ...  1.489592  0.123097    2.269589\n",
              "1         (1)       (104)            0.533270  ...  1.489592  0.123097    1.775438\n",
              "2         (1)        (23)            0.533270  ...  1.528618  0.113080    1.548203\n",
              "3        (23)         (1)            0.401141  ...  1.528618  0.113080    2.525129\n",
              "4        (31)         (1)            0.452471  ...  1.816130  0.196923   14.810900\n",
              "\n",
              "[5 rows x 9 columns]"
            ]
          },
          "metadata": {
            "tags": []
          },
          "execution_count": 9
        }
      ]
    },
    {
      "cell_type": "code",
      "metadata": {
        "id": "K6DP6jRn1rIO",
        "outputId": "099e248a-5254-4ceb-f70a-92d93e1d3a0c",
        "colab": {
          "base_uri": "https://localhost:8080/",
          "height": 33
        }
      },
      "source": [
        "a1 = result[(result['support'] >= 0.3) & (result['support'] <= 0.4)]\n",
        "len(a1)"
      ],
      "execution_count": null,
      "outputs": [
        {
          "output_type": "execute_result",
          "data": {
            "text/plain": [
              "72984"
            ]
          },
          "metadata": {
            "tags": []
          },
          "execution_count": 10
        }
      ]
    },
    {
      "cell_type": "code",
      "metadata": {
        "id": "b-wk27TqtfTR",
        "outputId": "c081193d-6f32-4a50-90fc-d0f9bc1c4e79",
        "colab": {
          "base_uri": "https://localhost:8080/",
          "height": 217
        }
      },
      "source": [
        "result[\"antecedent_len\"] = result[\"antecedents\"].apply(lambda x: len(x))\n",
        "# res.head()\n",
        "result[\"consequent_len\"] = result[\"consequents\"].apply(lambda x: len(x))\n",
        "\n",
        "a = result[ ((result['support'] >= 0.3) & (result['support'] <= 0.4)) &\n",
        "         ((result['antecedent_len'] == 2) & (result['consequent_len'] == 1)) ]\n",
        "ant1 = a[[\"antecedents\",\"consequents\",\"support\",\"confidence\",\"lift\"]]\n",
        "\n",
        "print(ant1.head())\n",
        "print(ant1.count())\n",
        "\n",
        "ant1.to_csv(\"output(range 3 to 4)_8_1.csv\")"
      ],
      "execution_count": null,
      "outputs": [
        {
          "output_type": "stream",
          "text": [
            "    antecedents consequents   support  confidence      lift\n",
            "324    (104, 1)        (23)  0.304183    0.812183  2.024683\n",
            "325   (104, 23)         (1)  0.304183    0.804020  1.507717\n",
            "326     (1, 23)       (104)  0.304183    0.930233  1.972993\n",
            "330    (104, 1)        (36)  0.351711    0.939086  0.963823\n",
            "331   (104, 36)         (1)  0.351711    0.783898  1.469984\n",
            "antecedents    885\n",
            "consequents    885\n",
            "support        885\n",
            "confidence     885\n",
            "lift           885\n",
            "dtype: int64\n"
          ],
          "name": "stdout"
        }
      ]
    }
  ]
}